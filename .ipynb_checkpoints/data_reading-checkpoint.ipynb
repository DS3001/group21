{
 "cells": [
  {
   "cell_type": "markdown",
   "metadata": {},
   "source": [
    "Testing"
   ]
  },
  {
   "cell_type": "code",
   "execution_count": 22,
   "metadata": {},
   "outputs": [
    {
     "name": "stdout",
     "output_type": "stream",
     "text": [
      "(72390, 6645)\n",
      "Index(['Unnamed: 0', 'year', 'id', 'wrkstat', 'hrs1', 'hrs2', 'evwork', 'occ',\n",
      "       'prestige', 'wrkslf',\n",
      "       ...\n",
      "       'instype02', 'instype03', 'instype04', 'totalincentive', 'wtssps_nea',\n",
      "       'wtssnrps_nea', 'wtssps_next', 'wtssnrps_next', 'wtsscomp',\n",
      "       'wtsscompnr'],\n",
      "      dtype='object', length=6645)\n"
     ]
    }
   ],
   "source": [
    "import numpy as np # Import the numpy package into your workspace\n",
    "import pandas as pd  # Import the pandas package into your workspace\n",
    "df = pd.read_csv(\"C:\\\\Users\\\\ayush\\\\Downloads\\\\gss\\\\gss.csv\", low_memory=False)\n",
    "print(df.shape)\n",
    "df.head()\n",
    "print(df.columns)\n",
    "filtered_df = df[(df['year']==2020)| (df['year']==2021) | (df['year']==2022)]\n"
   ]
  },
  {
   "cell_type": "code",
   "execution_count": 26,
   "metadata": {},
   "outputs": [
    {
     "name": "stdout",
     "output_type": "stream",
     "text": [
      "age        0\n",
      "sex        0\n",
      "marital    0\n",
      "fluvax     0\n",
      "dtype: int64\n",
      "(1198, 4)\n",
      "        age     sex        marital fluvax\n",
      "68846  72.0  female       divorced    yes\n",
      "68849  23.0  female  never married     no\n",
      "68850  62.0    male  never married     no\n",
      "68856  57.0  female        widowed     no\n",
      "68863  80.0  female        married    yes\n"
     ]
    }
   ],
   "source": [
    "selected_columns = ['age', 'sex', 'marital', 'fluvax']\n",
    "final_data_frame = filtered_df[selected_columns]\n",
    "\n",
    "\n",
    "final_data_frame = final_data_frame.dropna(subset=['fluvax', 'age'])\n",
    "\n",
    "nan_counts = final_data_frame.isna().sum()\n",
    "print(nan_counts)\n",
    "\n",
    "print(final_data_frame.shape)\n",
    "print(final_data_frame.head())\n",
    "\n"
   ]
  },
  {
   "cell_type": "code",
   "execution_count": null,
   "metadata": {},
   "outputs": [],
   "source": []
  }
 ],
 "metadata": {
  "kernelspec": {
   "display_name": "Python 3",
   "language": "python",
   "name": "python3"
  },
  "language_info": {
   "codemirror_mode": {
    "name": "ipython",
    "version": 3
   },
   "file_extension": ".py",
   "mimetype": "text/x-python",
   "name": "python",
   "nbconvert_exporter": "python",
   "pygments_lexer": "ipython3",
   "version": "3.9.5"
  }
 },
 "nbformat": 4,
 "nbformat_minor": 2
}
