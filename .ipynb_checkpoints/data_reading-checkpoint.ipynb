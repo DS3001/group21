{
 "cells": [
  {
   "cell_type": "markdown",
   "metadata": {},
   "source": [
    "Testing"
   ]
  },
  {
   "cell_type": "code",
   "execution_count": 1,
   "metadata": {},
   "outputs": [
    {
     "name": "stdout",
     "output_type": "stream",
     "text": [
      "(72390, 6644)\n",
      "Index(['year', 'id', 'wrkstat', 'hrs1', 'hrs2', 'evwork', 'occ', 'prestige',\n",
      "       'wrkslf', 'wrkgovt',\n",
      "       ...\n",
      "       'instype02', 'instype03', 'instype04', 'totalincentive', 'wtssps_nea',\n",
      "       'wtssnrps_nea', 'wtssps_next', 'wtssnrps_next', 'wtsscomp',\n",
      "       'wtsscompnr'],\n",
      "      dtype='object', length=6644)\n"
     ]
    }
   ],
   "source": [
    "import numpy as np # Import the numpy package into your workspace\n",
    "import pandas as pd  # Import the pandas package into your workspace\n",
    "df = pd.read_stata(\"C:\\\\Users\\\\ayush\\\\Downloads\\\\GSS_stata\\\\GSS_stata\\\\gss7222_r1.dta\", convert_categoricals=False)\n",
    "print(df.shape)\n",
    "df.head()\n",
    "print(df.columns)\n",
    "filtered_df = df[(df['year']==2020)| (df['year']==2021) | (df['year']==2022)]"
   ]
  },
  {
   "cell_type": "code",
   "execution_count": null,
   "metadata": {},
   "outputs": [],
   "source": []
  }
 ],
 "metadata": {
  "kernelspec": {
   "display_name": "Python 3",
   "language": "python",
   "name": "python3"
  },
  "language_info": {
   "codemirror_mode": {
    "name": "ipython",
    "version": 3
   },
   "file_extension": ".py",
   "mimetype": "text/x-python",
   "name": "python",
   "nbconvert_exporter": "python",
   "pygments_lexer": "ipython3",
   "version": "3.9.5"
  }
 },
 "nbformat": 4,
 "nbformat_minor": 2
}
