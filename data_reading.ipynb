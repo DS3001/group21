{
 "cells": [
  {
   "cell_type": "markdown",
   "metadata": {},
   "source": [
    "Testing"
   ]
  },
  {
   "cell_type": "code",
   "execution_count": null,
   "metadata": {},
   "outputs": [],
   "source": [
    "import numpy as np # Import the numpy package into your workspace\n",
    "import pandas as pd  # Import the pandas package into your workspace\n",
    "df = pd.read_csv(\"./gss.csv\", low_memory=False)\n",
    "print(df.shape)\n",
    "df.head()\n",
    "print(df.columns)\n",
    "filtered_df = df[(df['year']==2020)| (df['year']==2021) | (df['year']==2022)]\n"
   ]
  },
  {
   "cell_type": "code",
   "execution_count": null,
   "metadata": {},
   "outputs": [],
   "source": [
    "selected_columns = ['age', 'sex', 'marital', 'fluvax']\n",
    "final_data_frame = filtered_df[selected_columns]\n",
    "\n",
    "\n",
    "final_data_frame = final_data_frame.dropna(subset=['fluvax', 'age'])\n",
    "\n",
    "nan_counts = final_data_frame.isna().sum()\n",
    "print(nan_counts)\n",
    "\n",
    "print(final_data_frame.shape)\n",
    "print(final_data_frame.head())\n",
    "\n"
   ]
  },
  {
   "cell_type": "code",
   "execution_count": null,
   "metadata": {},
   "outputs": [],
   "source": [
    "import matplotlib.pyplot as plt\n",
    "\n",
    "# Create a histogram\n",
    "plt.figure(figsize=(10, 6))\n",
    "plt.hist(final_data_frame[final_data_frame['fluvax'] == 1]['age'], bins=20, alpha=0.5, label='Flu Vaccinated', color='blue')\n",
    "plt.hist(final_data_frame[final_data_frame['fluvax'] == 0]['age'], bins=20, alpha=0.5, label='Not Vaccinated', color='red')\n",
    "\n",
    "# Add labels and legend\n",
    "plt.xlabel('Age')\n",
    "plt.ylabel('Frequency')\n",
    "plt.title('Flu Vaccination vs Age Histogram')\n",
    "plt.legend()\n",
    "\n",
    "# Show the histogram\n",
    "plt.show()"
   ]
  }
 ],
 "metadata": {
  "kernelspec": {
   "display_name": "Python 3 (ipykernel)",
   "language": "python",
   "name": "python3"
  },
  "language_info": {
   "codemirror_mode": {
    "name": "ipython",
    "version": 3
   },
   "file_extension": ".py",
   "mimetype": "text/x-python",
   "name": "python",
   "nbconvert_exporter": "python",
   "pygments_lexer": "ipython3",
   "version": "3.10.7"
  }
 },
 "nbformat": 4,
 "nbformat_minor": 2
}
