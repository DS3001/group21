{
 "cells": [
  {
   "cell_type": "markdown",
   "metadata": {},
   "source": [
    "Testing"
   ]
  },
  {
   "cell_type": "code",
   "execution_count": null,
   "metadata": {},
   "outputs": [],
   "source": [
    "import numpy as np # Import the numpy package into your workspace\n",
    "import pandas as pd  # Import the pandas package into your workspace\n",
    "df = pd.read_csv(\"./gss.csv\", low_memory=False)\n",
    "print(df.shape)\n",
    "df.head()\n",
    "print(df.columns)\n",
    "filtered_df = df[(df['year']==2020)| (df['year']==2021) | (df['year']==2022)]\n"
   ]
  },
  {
   "cell_type": "code",
   "execution_count": null,
   "metadata": {},
   "outputs": [],
   "source": [
    "selected_columns = ['age', 'sex', 'marital', 'fluvax']\n",
    "final_data_frame = filtered_df[selected_columns]\n",
    "\n",
    "\n",
    "final_data_frame = final_data_frame.dropna(subset=['fluvax', 'age'])\n",
    "\n",
    "nan_counts = final_data_frame.isna().sum()\n",
    "print(nan_counts)\n",
    "\n",
    "print(final_data_frame.shape)\n",
    "print(final_data_frame.head())\n",
    "\n"
   ]
  },
  {
   "cell_type": "code",
   "execution_count": null,
   "metadata": {},
   "outputs": [],
   "source": [
    "import matplotlib.pyplot as plt\n",
    "\n",
    "# Create a histogram\n",
    "plt.figure(figsize=(10, 6))\n",
    "# age_range = range(0, 130, 10)\n",
    "plt.hist(final_data_frame[final_data_frame['fluvax'] == 'yes']['age'], bins=100, alpha=0.5, label='Flu Vaccinated', color='blue')\n",
    "plt.hist(final_data_frame[final_data_frame['fluvax'] == 'no']['age'], bins=100, alpha=0.5, label='Not Vaccinated', color='red')\n",
    "\n",
    "# Set the y-axis limits to show frequencies within the range of 1 to 500\n",
    "# plt.ylim(1, 500)\n",
    "\n",
    "# Add labels and legend\n",
    "plt.xlabel('Age')\n",
    "plt.ylabel('Frequency')\n",
    "plt.title('Flu Vaccination vs Age Histogram')\n",
    "plt.legend()\n",
    "\n",
    "# Show the histogram\n",
    "plt.show()"
   ]
  },
  {
   "cell_type": "code",
   "execution_count": null,
   "metadata": {},
   "outputs": [],
   "source": [
    "import seaborn as sns\n",
    "\n",
    "# Assuming you have your 'final_data_frame' with 'sex' and 'fluvax' columns\n",
    "\n",
    "# Create a count plot\n",
    "plt.figure(figsize=(8, 6))\n",
    "sns.countplot(x='sex', hue='fluvax', data=final_data_frame, palette='Set1')\n",
    "\n",
    "# Set labels and title\n",
    "plt.xlabel('Sex')\n",
    "plt.ylabel('Count')\n",
    "plt.title('Flu Vaccination by Gender')\n",
    "\n",
    "# Show the legend for the 'fluvax' values\n",
    "plt.legend(title='Flu Vaccination', labels=['Not Vaccinated', 'Vaccinated'])\n",
    "\n",
    "# Show the graph\n",
    "plt.show()"
   ]
  }
 ],
 "metadata": {
  "kernelspec": {
   "display_name": "Python 3 (ipykernel)",
   "language": "python",
   "name": "python3"
  },
  "language_info": {
   "codemirror_mode": {
    "name": "ipython",
    "version": 3
   },
   "file_extension": ".py",
   "mimetype": "text/x-python",
   "name": "python",
   "nbconvert_exporter": "python",
   "pygments_lexer": "ipython3",
   "version": "3.10.7"
  }
 },
 "nbformat": 4,
 "nbformat_minor": 2
}
